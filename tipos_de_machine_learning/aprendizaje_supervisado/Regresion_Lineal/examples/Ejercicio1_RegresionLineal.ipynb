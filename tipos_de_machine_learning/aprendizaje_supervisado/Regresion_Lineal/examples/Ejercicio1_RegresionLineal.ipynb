{
  "nbformat": 4,
  "nbformat_minor": 0,
  "metadata": {
    "colab": {
      "name": "Ejercicio1_RegresionLineal.ipynb",
      "provenance": [],
      "collapsed_sections": []
    },
    "kernelspec": {
      "name": "python3",
      "display_name": "Python 3"
    },
    "language_info": {
      "name": "python"
    }
  },
  "cells": [
    {
      "cell_type": "code",
      "execution_count": 4,
      "metadata": {
        "id": "J6_mYinxAECi"
      },
      "outputs": [],
      "source": [
        "# Librerías\n",
        "import numpy as np\n",
        "import pandas as pd\n",
        "import matplotlib.pyplot as plt\n",
        "%matplotlib inline\n",
        "from sklearn.linear_model import LinearRegression"
      ]
    },
    {
      "cell_type": "code",
      "source": [
        "# Generación de los datos\n",
        "lenguajes_de_programacion = np.random.rand(100, 1)\n",
        "salario = 4 + 3 * lenguajes_de_programacion + np.random.randn(100,1) "
      ],
      "metadata": {
        "id": "JY28lkaMAWSj"
      },
      "execution_count": 5,
      "outputs": []
    },
    {
      "cell_type": "code",
      "source": [
        "# Imprimir datos\n",
        "plt.plot(lenguajes_de_programacion, salario, \"b.\")\n",
        "plt.xlabel(\"No. Lenguajes de programación\")\n",
        "plt.ylabel(\"Salario\")\n",
        "plt.show()"
      ],
      "metadata": {
        "colab": {
          "base_uri": "https://localhost:8080/",
          "height": 280
        },
        "id": "pMoUYNgOBMm7",
        "outputId": "06450915-7586-47e6-f586-844c9ba159cf"
      },
      "execution_count": 6,
      "outputs": [
        {
          "output_type": "display_data",
          "data": {
            "text/plain": [
              "<Figure size 432x288 with 1 Axes>"
            ],
            "image/png": "[encoded data removed]"
          },
          "metadata": {
            "needs_background": "light"
          }
        }
      ]
    },
    {
      "cell_type": "code",
      "source": [
        "# Convertir a DataFrame\n",
        "dictionary = {\"Lenguajes de programación\": lenguajes_de_programacion.flatten(), \"Salario\": salario.flatten()}\n",
        "df = pd.DataFrame(dictionary)"
      ],
      "metadata": {
        "id": "wtkCZKkGCVDR"
      },
      "execution_count": 7,
      "outputs": []
    },
    {
      "cell_type": "code",
      "source": [
        "# Transformación DataFrame valores normales\n",
        "df['Lenguajes de programación'] = (df['Lenguajes de programación'] * 100).astype(\"int\")\n",
        "df['Salario'] = (df['Salario'] * 10000).astype(\"int\")"
      ],
      "metadata": {
        "id": "sf-Akd7KBNxX"
      },
      "execution_count": 8,
      "outputs": []
    },
    {
      "cell_type": "code",
      "source": [
        "# Imprimir datos \n",
        "plt.plot(df['Lenguajes de programación'].values.reshape(-1,1), df['Salario'].values, \"b.\")\n",
        "plt.xlabel(\"No. Lenguajes de programación\")\n",
        "plt.ylabel(\"Salario\")\n",
        "plt.show()"
      ],
      "metadata": {
        "colab": {
          "base_uri": "https://localhost:8080/",
          "height": 280
        },
        "id": "KHTo1nQmDoDy",
        "outputId": "b713ed6c-d814-4e53-8c0b-9ba360b55405"
      },
      "execution_count": 9,
      "outputs": [
        {
          "output_type": "display_data",
          "data": {
            "text/plain": [
              "<Figure size 432x288 with 1 Axes>"
            ],
            "image/png": "[encoded data removed]"
          },
          "metadata": {
            "needs_background": "light"
          }
        }
      ]
    },
    {
      "cell_type": "code",
      "source": [
        "# Aprendizaje supervisado\n",
        "lr = LinearRegression()\n",
        "lr.fit(df['Lenguajes de programación'].values.reshape(-1,1), df['Salario'])"
      ],
      "metadata": {
        "colab": {
          "base_uri": "https://localhost:8080/"
        },
        "id": "tgAwmmoc4fat",
        "outputId": "9f1c76bd-4f30-4402-93f1-62de35efcbf6"
      },
      "execution_count": 14,
      "outputs": [
        {
          "output_type": "execute_result",
          "data": {
            "text/plain": [
              "LinearRegression()"
            ]
          },
          "metadata": {},
          "execution_count": 14
        }
      ]
    },
    {
      "cell_type": "code",
      "source": [
        "# Obtener pendiente\n",
        "lr.coef_"
      ],
      "metadata": {
        "colab": {
          "base_uri": "https://localhost:8080/"
        },
        "id": "Ll-nV_i45Gbu",
        "outputId": "a195559d-1eac-438f-9151-4177339e6f16"
      },
      "execution_count": 15,
      "outputs": [
        {
          "output_type": "execute_result",
          "data": {
            "text/plain": [
              "array([264.86187136])"
            ]
          },
          "metadata": {},
          "execution_count": 15
        }
      ]
    },
    {
      "cell_type": "code",
      "source": [
        "# Punto de corte eje Y\n",
        "lr.intercept_"
      ],
      "metadata": {
        "colab": {
          "base_uri": "https://localhost:8080/"
        },
        "id": "VPpzQ2ja5La0",
        "outputId": "63e8102b-0ff7-4d39-a316-79b1e3331a1e"
      },
      "execution_count": 16,
      "outputs": [
        {
          "output_type": "execute_result",
          "data": {
            "text/plain": [
              "41532.15759668908"
            ]
          },
          "metadata": {},
          "execution_count": 16
        }
      ]
    },
    {
      "cell_type": "code",
      "source": [
        "# Predeccir nuevo valor\n",
        "nuevos_lenguajes = np.array([[23]])\n",
        "result = lr.predict(nuevos_lenguajes)\n",
        "print(result)"
      ],
      "metadata": {
        "colab": {
          "base_uri": "https://localhost:8080/"
        },
        "id": "hKS_iaoL5XI_",
        "outputId": "7e72838e-4ead-43e4-aa13-f7a57a7393c9"
      },
      "execution_count": 18,
      "outputs": [
        {
          "output_type": "stream",
          "name": "stdout",
          "text": [
            "[47623.98063807]\n"
          ]
        }
      ]
    }
  ]
}